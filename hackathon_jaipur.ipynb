{
  "nbformat": 4,
  "nbformat_minor": 0,
  "metadata": {
    "colab": {
      "provenance": []
    },
    "kernelspec": {
      "name": "python3",
      "display_name": "Python 3"
    },
    "language_info": {
      "name": "python"
    }
  },
  "cells": [
    {
      "cell_type": "code",
      "execution_count": 1,
      "metadata": {
        "colab": {
          "base_uri": "https://localhost:8080/"
        },
        "id": "gzdoXi5mf0rz",
        "outputId": "c6d01763-bff5-4bb1-f92e-ee481bec006f"
      },
      "outputs": [
        {
          "output_type": "stream",
          "name": "stdout",
          "text": [
            "Looking in indexes: https://pypi.org/simple, https://us-python.pkg.dev/colab-wheels/public/simple/\n",
            "Requirement already satisfied: spacy in /usr/local/lib/python3.9/dist-packages (3.5.1)\n",
            "Requirement already satisfied: packaging>=20.0 in /usr/local/lib/python3.9/dist-packages (from spacy) (23.0)\n",
            "Requirement already satisfied: tqdm<5.0.0,>=4.38.0 in /usr/local/lib/python3.9/dist-packages (from spacy) (4.65.0)\n",
            "Requirement already satisfied: requests<3.0.0,>=2.13.0 in /usr/local/lib/python3.9/dist-packages (from spacy) (2.27.1)\n",
            "Requirement already satisfied: wasabi<1.2.0,>=0.9.1 in /usr/local/lib/python3.9/dist-packages (from spacy) (1.1.1)\n",
            "Requirement already satisfied: typer<0.8.0,>=0.3.0 in /usr/local/lib/python3.9/dist-packages (from spacy) (0.7.0)\n",
            "Requirement already satisfied: catalogue<2.1.0,>=2.0.6 in /usr/local/lib/python3.9/dist-packages (from spacy) (2.0.8)\n",
            "Requirement already satisfied: srsly<3.0.0,>=2.4.3 in /usr/local/lib/python3.9/dist-packages (from spacy) (2.4.6)\n",
            "Requirement already satisfied: murmurhash<1.1.0,>=0.28.0 in /usr/local/lib/python3.9/dist-packages (from spacy) (1.0.9)\n",
            "Requirement already satisfied: langcodes<4.0.0,>=3.2.0 in /usr/local/lib/python3.9/dist-packages (from spacy) (3.3.0)\n",
            "Requirement already satisfied: cymem<2.1.0,>=2.0.2 in /usr/local/lib/python3.9/dist-packages (from spacy) (2.0.7)\n",
            "Requirement already satisfied: thinc<8.2.0,>=8.1.8 in /usr/local/lib/python3.9/dist-packages (from spacy) (8.1.9)\n",
            "Requirement already satisfied: pydantic!=1.8,!=1.8.1,<1.11.0,>=1.7.4 in /usr/local/lib/python3.9/dist-packages (from spacy) (1.10.6)\n",
            "Requirement already satisfied: numpy>=1.15.0 in /usr/local/lib/python3.9/dist-packages (from spacy) (1.22.4)\n",
            "Requirement already satisfied: pathy>=0.10.0 in /usr/local/lib/python3.9/dist-packages (from spacy) (0.10.1)\n",
            "Requirement already satisfied: jinja2 in /usr/local/lib/python3.9/dist-packages (from spacy) (3.1.2)\n",
            "Requirement already satisfied: preshed<3.1.0,>=3.0.2 in /usr/local/lib/python3.9/dist-packages (from spacy) (3.0.8)\n",
            "Requirement already satisfied: spacy-loggers<2.0.0,>=1.0.0 in /usr/local/lib/python3.9/dist-packages (from spacy) (1.0.4)\n",
            "Requirement already satisfied: setuptools in /usr/local/lib/python3.9/dist-packages (from spacy) (63.4.3)\n",
            "Requirement already satisfied: spacy-legacy<3.1.0,>=3.0.11 in /usr/local/lib/python3.9/dist-packages (from spacy) (3.0.12)\n",
            "Requirement already satisfied: smart-open<7.0.0,>=5.2.1 in /usr/local/lib/python3.9/dist-packages (from spacy) (6.3.0)\n",
            "Requirement already satisfied: typing-extensions>=4.2.0 in /usr/local/lib/python3.9/dist-packages (from pydantic!=1.8,!=1.8.1,<1.11.0,>=1.7.4->spacy) (4.5.0)\n",
            "Requirement already satisfied: urllib3<1.27,>=1.21.1 in /usr/local/lib/python3.9/dist-packages (from requests<3.0.0,>=2.13.0->spacy) (1.26.15)\n",
            "Requirement already satisfied: charset-normalizer~=2.0.0 in /usr/local/lib/python3.9/dist-packages (from requests<3.0.0,>=2.13.0->spacy) (2.0.12)\n",
            "Requirement already satisfied: idna<4,>=2.5 in /usr/local/lib/python3.9/dist-packages (from requests<3.0.0,>=2.13.0->spacy) (3.4)\n",
            "Requirement already satisfied: certifi>=2017.4.17 in /usr/local/lib/python3.9/dist-packages (from requests<3.0.0,>=2.13.0->spacy) (2022.12.7)\n",
            "Requirement already satisfied: blis<0.8.0,>=0.7.8 in /usr/local/lib/python3.9/dist-packages (from thinc<8.2.0,>=8.1.8->spacy) (0.7.9)\n",
            "Requirement already satisfied: confection<1.0.0,>=0.0.1 in /usr/local/lib/python3.9/dist-packages (from thinc<8.2.0,>=8.1.8->spacy) (0.0.4)\n",
            "Requirement already satisfied: click<9.0.0,>=7.1.1 in /usr/local/lib/python3.9/dist-packages (from typer<0.8.0,>=0.3.0->spacy) (8.1.3)\n",
            "Requirement already satisfied: MarkupSafe>=2.0 in /usr/local/lib/python3.9/dist-packages (from jinja2->spacy) (2.1.2)\n"
          ]
        }
      ],
      "source": [
        "pip install spacy"
      ]
    },
    {
      "cell_type": "code",
      "source": [
        "!pip install yake \n",
        "import yake"
      ],
      "metadata": {
        "id": "ywpeRGWLgBpk",
        "outputId": "660759b3-40dc-4e1e-cf89-d791167090a1",
        "colab": {
          "base_uri": "https://localhost:8080/"
        }
      },
      "execution_count": 6,
      "outputs": [
        {
          "output_type": "stream",
          "name": "stdout",
          "text": [
            "Looking in indexes: https://pypi.org/simple, https://us-python.pkg.dev/colab-wheels/public/simple/\n",
            "Collecting yake\n",
            "  Downloading yake-0.4.8-py2.py3-none-any.whl (60 kB)\n",
            "\u001b[2K     \u001b[90m━━━━━━━━━━━━━━━━━━━━━━━━━━━━━━━━━━━━━━━━\u001b[0m \u001b[32m60.2/60.2 KB\u001b[0m \u001b[31m2.5 MB/s\u001b[0m eta \u001b[36m0:00:00\u001b[0m\n",
            "\u001b[?25hRequirement already satisfied: networkx in /usr/local/lib/python3.9/dist-packages (from yake) (3.0)\n",
            "Collecting jellyfish\n",
            "  Downloading jellyfish-0.9.0.tar.gz (132 kB)\n",
            "\u001b[2K     \u001b[90m━━━━━━━━━━━━━━━━━━━━━━━━━━━━━━━━━━━━━━━\u001b[0m \u001b[32m132.6/132.6 KB\u001b[0m \u001b[31m6.3 MB/s\u001b[0m eta \u001b[36m0:00:00\u001b[0m\n",
            "\u001b[?25h  Preparing metadata (setup.py) ... \u001b[?25l\u001b[?25hdone\n",
            "Collecting segtok\n",
            "  Downloading segtok-1.5.11-py3-none-any.whl (24 kB)\n",
            "Requirement already satisfied: numpy in /usr/local/lib/python3.9/dist-packages (from yake) (1.22.4)\n",
            "Requirement already satisfied: click>=6.0 in /usr/local/lib/python3.9/dist-packages (from yake) (8.1.3)\n",
            "Requirement already satisfied: tabulate in /usr/local/lib/python3.9/dist-packages (from yake) (0.8.10)\n",
            "Requirement already satisfied: regex in /usr/local/lib/python3.9/dist-packages (from segtok->yake) (2022.10.31)\n",
            "Building wheels for collected packages: jellyfish\n",
            "  Building wheel for jellyfish (setup.py) ... \u001b[?25l\u001b[?25hdone\n",
            "  Created wheel for jellyfish: filename=jellyfish-0.9.0-cp39-cp39-linux_x86_64.whl size=81476 sha256=c99526951cea637cc2c4017c758ae595dda201de2ab2308aa8f9338c3ca8f801\n",
            "  Stored in directory: /root/.cache/pip/wheels/a6/28/ba/284e37010e5d3aeed5e45345b58ab8683f97bdce46c9e147f9\n",
            "Successfully built jellyfish\n",
            "Installing collected packages: segtok, jellyfish, yake\n",
            "Successfully installed jellyfish-0.9.0 segtok-1.5.11 yake-0.4.8\n"
          ]
        }
      ]
    },
    {
      "cell_type": "code",
      "source": [
        "kw_extractor = yake.KeywordExtractor()"
      ],
      "metadata": {
        "id": "YiVUMSNbkGHM"
      },
      "execution_count": 8,
      "outputs": []
    },
    {
      "cell_type": "code",
      "source": [
        " text = \"\"\"spaCy is an open-source software library for advanced natural language processing, written in the programming languages Python and Cython. The library is published under the MIT license and its main developers are Matthew Honnibal and Ines Montani, the founders of the software company Explosion.\"\"\""
      ],
      "metadata": {
        "id": "LuQesJfelIFa"
      },
      "execution_count": 9,
      "outputs": []
    },
    {
      "cell_type": "code",
      "source": [],
      "metadata": {
        "id": "Re06_XwR7VWi"
      },
      "execution_count": null,
      "outputs": []
    },
    {
      "cell_type": "code",
      "source": [
        " language = \"en\" "
      ],
      "metadata": {
        "id": "fezA0ID74TdA"
      },
      "execution_count": 11,
      "outputs": []
    },
    {
      "cell_type": "markdown",
      "source": [
        "max_ngram_size = 3\n",
        "deduplication_threshold = 0.9\n",
        "numOfKeywords = 20\n",
        "custom_kw_extractor = yake.KeywordExtractor(lan=language, n=max_ngram_size, dedupLim=deduplication_threshold, top=numOfKeywords, features=None)\n",
        "keywords = custom_kw_extractor.extract_keywords(text)\n",
        "for kw in keywords:\n",
        "  print(kw)"
      ],
      "metadata": {
        "id": "4uVHB6cw4VEz"
      }
    },
    {
      "cell_type": "code",
      "source": [
        "max_ngram_size = 3\n",
        "deduplication_threshold = 0.9\n",
        "numOfKeywords = 20\n",
        "custom_kw_extractor = yake.KeywordExtractor(lan=language, n=max_ngram_size, dedupLim=deduplication_threshold, top=numOfKeywords, features=None)\n",
        "keywords = custom_kw_extractor.extract_keywords(text)\n",
        "for kw in keywords: \n",
        "  print(kw)\n",
        "print(keywords)"
      ],
      "metadata": {
        "colab": {
          "base_uri": "https://localhost:8080/"
        },
        "id": "_0C067XR7WcB",
        "outputId": "bf7becf4-40e7-471e-c3f9-36b8f9a3ece9"
      },
      "execution_count": 13,
      "outputs": [
        {
          "output_type": "stream",
          "name": "stdout",
          "text": [
            "('programming languages Python', 0.001295347548560416)\n",
            "('natural language processing', 0.002012136772192602)\n",
            "('advanced natural language', 0.0026621455770583914)\n",
            "('Python and Cython', 0.0035840985079775055)\n",
            "('open-source software library', 0.008298152696966859)\n",
            "('languages Python', 0.009390717577572831)\n",
            "('language processing', 0.01453240965208459)\n",
            "('software company Explosion', 0.015993140254256993)\n",
            "('advanced natural', 0.01840251352140607)\n",
            "('natural language', 0.019161829017826378)\n",
            "('programming languages', 0.019161829017826378)\n",
            "('open-source software', 0.032652195076937375)\n",
            "('Ines Montani', 0.03375876229391358)\n",
            "('Matthew Honnibal', 0.04096703831447956)\n",
            "('Honnibal and Ines', 0.04096703831447956)\n",
            "('Cython', 0.053691021027863564)\n",
            "('software library', 0.05857047036380304)\n",
            "('company Explosion', 0.06120870235178475)\n",
            "('Python', 0.06651575167590484)\n",
            "('library for advanced', 0.07441175006256819)\n",
            "[('programming languages Python', 0.001295347548560416), ('natural language processing', 0.002012136772192602), ('advanced natural language', 0.0026621455770583914), ('Python and Cython', 0.0035840985079775055), ('open-source software library', 0.008298152696966859), ('languages Python', 0.009390717577572831), ('language processing', 0.01453240965208459), ('software company Explosion', 0.015993140254256993), ('advanced natural', 0.01840251352140607), ('natural language', 0.019161829017826378), ('programming languages', 0.019161829017826378), ('open-source software', 0.032652195076937375), ('Ines Montani', 0.03375876229391358), ('Matthew Honnibal', 0.04096703831447956), ('Honnibal and Ines', 0.04096703831447956), ('Cython', 0.053691021027863564), ('software library', 0.05857047036380304), ('company Explosion', 0.06120870235178475), ('Python', 0.06651575167590484), ('library for advanced', 0.07441175006256819)]\n"
          ]
        }
      ]
    },
    {
      "cell_type": "code",
      "source": [
        "word = print(str(input()))\n",
        "import nltk\n",
        "# for sent in range(len(keywords)):\n",
        "#   l = keywords[sent].split(' ')\n",
        "#   for word in l:\n",
        "for entity in keywords:\n",
        "  for val in keywords[entity]:\n",
        "    if nltk.edit_distance(word, val, transpositions=False) <= 1: \n",
        "    # and (ispresent(word, val) or ispresent(val, word)):\n",
        "      print(word, entity)"
      ],
      "metadata": {
        "colab": {
          "base_uri": "https://localhost:8080/",
          "height": 269
        },
        "id": "OsNQtGKU80vl",
        "outputId": "62ba9d4c-1359-45aa-e422-dc5ac5544c6a"
      },
      "execution_count": 16,
      "outputs": [
        {
          "output_type": "stream",
          "name": "stdout",
          "text": [
            "programming\n",
            "programming\n"
          ]
        },
        {
          "output_type": "error",
          "ename": "TypeError",
          "evalue": "ignored",
          "traceback": [
            "\u001b[0;31m---------------------------------------------------------------------------\u001b[0m",
            "\u001b[0;31mTypeError\u001b[0m                                 Traceback (most recent call last)",
            "\u001b[0;32m<ipython-input-16-5f98086205ca>\u001b[0m in \u001b[0;36m<module>\u001b[0;34m\u001b[0m\n\u001b[1;32m      5\u001b[0m \u001b[0;31m#   for word in l:\u001b[0m\u001b[0;34m\u001b[0m\u001b[0;34m\u001b[0m\u001b[0m\n\u001b[1;32m      6\u001b[0m \u001b[0;32mfor\u001b[0m \u001b[0mentity\u001b[0m \u001b[0;32min\u001b[0m \u001b[0mkeywords\u001b[0m\u001b[0;34m:\u001b[0m\u001b[0;34m\u001b[0m\u001b[0;34m\u001b[0m\u001b[0m\n\u001b[0;32m----> 7\u001b[0;31m   \u001b[0;32mfor\u001b[0m \u001b[0mval\u001b[0m \u001b[0;32min\u001b[0m \u001b[0mkeywords\u001b[0m\u001b[0;34m[\u001b[0m\u001b[0mentity\u001b[0m\u001b[0;34m]\u001b[0m\u001b[0;34m:\u001b[0m\u001b[0;34m\u001b[0m\u001b[0;34m\u001b[0m\u001b[0m\n\u001b[0m\u001b[1;32m      8\u001b[0m     \u001b[0;32mif\u001b[0m \u001b[0mnltk\u001b[0m\u001b[0;34m.\u001b[0m\u001b[0medit_distance\u001b[0m\u001b[0;34m(\u001b[0m\u001b[0mword\u001b[0m\u001b[0;34m,\u001b[0m \u001b[0mval\u001b[0m\u001b[0;34m,\u001b[0m \u001b[0mtranspositions\u001b[0m\u001b[0;34m=\u001b[0m\u001b[0;32mFalse\u001b[0m\u001b[0;34m)\u001b[0m \u001b[0;34m<=\u001b[0m \u001b[0;36m1\u001b[0m\u001b[0;34m:\u001b[0m\u001b[0;34m\u001b[0m\u001b[0;34m\u001b[0m\u001b[0m\n\u001b[1;32m      9\u001b[0m     \u001b[0;31m# and (ispresent(word, val) or ispresent(val, word)):\u001b[0m\u001b[0;34m\u001b[0m\u001b[0;34m\u001b[0m\u001b[0m\n",
            "\u001b[0;31mTypeError\u001b[0m: list indices must be integers or slices, not tuple"
          ]
        }
      ]
    },
    {
      "cell_type": "code",
      "source": [
        "#calc of premium : \n",
        "premium_dict = {}\n",
        "for each startup in listofstartups:\n",
        "  roi = ((total_invested_money_startup - revenue_generated)/total_invested_money_startup)\n",
        "  premium_dict[startup] = roi\n",
        "\n",
        "premium_percent = 1000\n",
        "if (roi == -1):\n",
        "  premium_percent = 20\n",
        "elif (roi>-1 and roi<=-0.90):\n",
        "  premium_percent = 19\n",
        "elif (roi>-0.90 and roi<=-0.80):\n",
        "  premium_percent = 18\n",
        "elif (roi>-0.80 and roi<=-0.70):\n",
        "  premium_percent = 17\n",
        "elif (roi>-0.70 and roi<=-0.60):\n",
        "  premium_percent = 16\n",
        "elif (roi>-0.60 and roi<=-0.50):\n",
        "  premium_percent = 15\n",
        "elif (roi>-0.50 and roi<=-0.40):\n",
        "  premium_percent = 14\n",
        "elif (roi>-0.40 and roi<=-0.30):\n",
        "  premium_percent = 13\n",
        "elif (roi>-0.30 and roi<=-0.20):\n",
        "  premium_percent = 12\n",
        "elif (roi>-0.20 and roi<=-0.10):\n",
        "  premium_percent = 11\n",
        "elif (roi>-0.10 and roi<=0.00):\n",
        "  premium_percent = 10\n",
        "elif (roi>0 and roi<=0.10):\n",
        "  premium_percent = 9\n",
        "elif (roi>0.10 and roi<=0.20):\n",
        "  premium_percent = 8\n",
        "elif (roi>0.20 and roi<=0.20):\n",
        "  premium_percent = 7\n",
        "elif (roi>0.30 and roi<=0.40):\n",
        "  premium_percent = 6\n",
        "elif (roi>0.40 and roi<=0.50):\n",
        "  premium_percent = 5   \n",
        "elif (roi>0.50 and roi<=0.60):\n",
        "  premium_percent = 4\n",
        "elif (roi>0.60 and roi<=0.70):\n",
        "  premium_percent = 3\n",
        "elif (roi>0.70 and roi<=0.80):\n",
        "  premium_percent = 2  \n",
        "elif (roi>0.180 and roi<=0.90):\n",
        "  premium_percent = 1  \n",
        "else:\n",
        "  premium_percent = 0\n",
        "\n",
        "\n",
        "premium = (premium_percent * funding_aquired_by_startup)/100"
      ],
      "metadata": {
        "colab": {
          "base_uri": "https://localhost:8080/",
          "height": 130
        },
        "id": "k7H1Co6lPEzq",
        "outputId": "ffe00edd-1ccc-4b73-f7ec-648e57bf29ff"
      },
      "execution_count": 17,
      "outputs": [
        {
          "output_type": "error",
          "ename": "SyntaxError",
          "evalue": "ignored",
          "traceback": [
            "\u001b[0;36m  File \u001b[0;32m\"<ipython-input-17-fb02803ae70e>\"\u001b[0;36m, line \u001b[0;32m3\u001b[0m\n\u001b[0;31m    for each startup in listofstartups:\u001b[0m\n\u001b[0m             ^\u001b[0m\n\u001b[0;31mSyntaxError\u001b[0m\u001b[0;31m:\u001b[0m invalid syntax\n"
          ]
        }
      ]
    }
  ]
}